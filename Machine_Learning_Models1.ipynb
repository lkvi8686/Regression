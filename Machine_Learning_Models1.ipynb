{
 "cells": [
  {
   "cell_type": "markdown",
   "metadata": {},
   "source": [
    "## Linear Regression"
   ]
  },
  {
   "cell_type": "code",
   "execution_count": null,
   "metadata": {},
   "outputs": [],
   "source": [
    "def Linear_Regression(X,y):\n",
    "    from sklearn.model_selection import train_test_split\n",
    "    from sklearn import datasets, linear_model\n",
    "    from sklearn.metrics import classification_report,confusion_matrix,accuracy_score\n",
    "    X_train, X_test, y_train, y_test = train_test_split(X, y, test_size=0.2, random_state=101)\n",
    "    regr = linear_model.LinearRegression()\n",
    "    regr.fit(X_train,y_train)\n",
    "    predictions = regr.predict(X_test)\n",
    "    print(\"Train Accuracy :: \", accuracy_score(y_train, regr.predict(X_train)))\n",
    "    print(\"Test Accuracy  :: \", accuracy_score(y_test, predictions))\n",
    "    print(\" Confusion matrix: \\n \", confusion_matrix(y_test, predictions))\n",
    "    print(\" Classification Report: \\n \", classification_report(y_test, predictions))"
   ]
  },
  {
   "cell_type": "code",
   "execution_count": null,
   "metadata": {},
   "outputs": [],
   "source": [
    "Linear_Regression(X,y)"
   ]
  },
  {
   "cell_type": "markdown",
   "metadata": {},
   "source": [
    "## Logistic Regression"
   ]
  },
  {
   "cell_type": "code",
   "execution_count": null,
   "metadata": {},
   "outputs": [],
   "source": [
    "def Logistic_Regression(X,y):\n",
    "    from sklearn.linear_model import LogisticRegression\n",
    "    from sklearn.model_selection import train_test_split\n",
    "    from sklearn.metrics import classification_report,confusion_matrix,accuracy_score\n",
    "    X_train, X_test, y_train, y_test = train_test_split(X, y, test_size=0.2, random_state=101)\n",
    "    logmodel = LogisticRegression(random_state=0,class_weight='balanced')\n",
    "    logmodel.fit(X_train,y_train)\n",
    "    predictions = logmodel.predict(X_test)\n",
    "    print(\"Train Accuracy :: \", accuracy_score(y_train, logmodel.predict(X_train)))\n",
    "    print(\"Test Accuracy  :: \", accuracy_score(y_test, predictions))\n",
    "    print(\" Confusion matrix: \\n \", confusion_matrix(y_test, predictions))\n",
    "    print(\" Classification Report: \\n \", classification_report(y_test, predictions))"
   ]
  },
  {
   "cell_type": "code",
   "execution_count": null,
   "metadata": {},
   "outputs": [],
   "source": [
    "Logistic_Regression(X,y)"
   ]
  },
  {
   "cell_type": "markdown",
   "metadata": {},
   "source": [
    "## Ridge Regression"
   ]
  },
  {
   "cell_type": "code",
   "execution_count": null,
   "metadata": {},
   "outputs": [],
   "source": [
    "def Ridge_Regression(X,y):\n",
    "    from sklearn.linear_model import Ridge\n",
    "    from sklearn.model_selection import train_test_split\n",
    "    from sklearn.metrics import classification_report,confusion_matrix,accuracy_score\n",
    "    X_train, X_test, y_train, y_test = train_test_split(X, y, test_size=0.2, random_state=101)\n",
    "    regr = Ridge(alpha = .5)\n",
    "    regr.fit(X_train,y_train)\n",
    "    predictions = regr.predict(X_test)\n",
    "    print(\"Train Accuracy :: \", accuracy_score(y_train, regr.predict(X_train)))\n",
    "    print(\"Test Accuracy  :: \", accuracy_score(y_test, predictions))\n",
    "    print(\" Confusion matrix: \\n \", confusion_matrix(y_test, predictions))\n",
    "    print(\" Classification Report: \\n \", classification_report(y_test, predictions))"
   ]
  },
  {
   "cell_type": "code",
   "execution_count": null,
   "metadata": {},
   "outputs": [],
   "source": [
    "Ridge_Regression(X,y)"
   ]
  },
  {
   "cell_type": "markdown",
   "metadata": {},
   "source": [
    "## Lasso Regression"
   ]
  },
  {
   "cell_type": "code",
   "execution_count": null,
   "metadata": {},
   "outputs": [],
   "source": [
    "def Lasso_Regression(X,y):\n",
    "    from sklearn.linear_model import Lasso\n",
    "    from sklearn.model_selection import train_test_split\n",
    "    from sklearn.metrics import classification_report,confusion_matrix,accuracy_score\n",
    "    X_train, X_test, y_train, y_test = train_test_split(X, y, test_size=0.2, random_state=101)\n",
    "    regr = Lasso(alpha=0.1)\n",
    "    regr.fit(X_train,y_train)\n",
    "    predictions = regr.predict(X_test)\n",
    "    print(\"Train Accuracy :: \", accuracy_score(y_train, regr.predict(X_train)))\n",
    "    print(\"Test Accuracy  :: \", accuracy_score(y_test, predictions))\n",
    "    print(\" Confusion matrix: \\n \", confusion_matrix(y_test, predictions))\n",
    "    print(\" Classification Report: \\n \", classification_report(y_test, predictions))"
   ]
  },
  {
   "cell_type": "code",
   "execution_count": null,
   "metadata": {},
   "outputs": [],
   "source": [
    "Lasso_Regression(X,y)"
   ]
  },
  {
   "cell_type": "markdown",
   "metadata": {},
   "source": [
    "## Decision Tree Classifier"
   ]
  },
  {
   "cell_type": "code",
   "execution_count": null,
   "metadata": {},
   "outputs": [],
   "source": [
    "def Decision_Tree_Classifier(X,y):\n",
    "    from sklearn.model_selection import train_test_split\n",
    "    from sklearn.tree import DecisionTreeClassifier\n",
    "    from sklearn.metrics import classification_report,confusion_matrix,accuracy_score\n",
    "    X_train, X_test, y_train, y_test = train_test_split(X, y, test_size=0.2, random_state=101)\n",
    "    dtree = DecisionTreeClassifier(class_weight='balanced', criterion='gini', max_depth=5,\n",
    "            max_features=None, max_leaf_nodes=20, min_samples_leaf=5,\n",
    "            min_samples_split=2, min_weight_fraction_leaf=0.0,\n",
    "            presort=False, random_state=0, splitter='random')\n",
    "    dtree.fit(X_train,y_train)\n",
    "    predictions = dtree.predict(X_test)\n",
    "    print(\"Train Accuracy :: \", accuracy_score(y_train, dtree.predict(X_train)))\n",
    "    print(\"Test Accuracy  :: \", accuracy_score(y_test, predictions)) \n",
    "    print(\" Confusion matrix: \\n \", confusion_matrix(y_test, predictions))\n",
    "    print(\" Classification Report: \\n \", classification_report(y_test, predictions))"
   ]
  },
  {
   "cell_type": "code",
   "execution_count": null,
   "metadata": {},
   "outputs": [],
   "source": [
    "Decision_Tree_Classifier(X,y)"
   ]
  },
  {
   "cell_type": "markdown",
   "metadata": {},
   "source": [
    "## Decision Tree Regressor"
   ]
  },
  {
   "cell_type": "code",
   "execution_count": null,
   "metadata": {},
   "outputs": [],
   "source": [
    "def Decision_Tree_Regressor(X,y):\n",
    "    from sklearn.model_selection import train_test_split\n",
    "    from sklearn.tree import DecisionTreeRegressor\n",
    "    from sklearn.metrics import classification_report,confusion_matrix,accuracy_score\n",
    "    X_train, X_test, y_train, y_test = train_test_split(X, y, test_size=0.2, random_state=101)\n",
    "    dtree = DecisionTreeRegressor(random_state=0)\n",
    "    dtree.fit(X_train,y_train)\n",
    "    predictions = dtree.predict(X_test)\n",
    "    print(\"Train Accuracy :: \", accuracy_score(y_train, dtree.predict(X_train)))\n",
    "    print(\"Test Accuracy  :: \", accuracy_score(y_test, predictions)) \n",
    "    print(\" Confusion matrix: \\n \", confusion_matrix(y_test, predictions))\n",
    "    print(\" Classification Report: \\n \", classification_report(y_test, predictions))"
   ]
  },
  {
   "cell_type": "code",
   "execution_count": null,
   "metadata": {},
   "outputs": [],
   "source": [
    "Decision_Tree_Regressor(X,y)"
   ]
  },
  {
   "cell_type": "markdown",
   "metadata": {},
   "source": [
    "## Random Forest Classifier"
   ]
  },
  {
   "cell_type": "code",
   "execution_count": null,
   "metadata": {},
   "outputs": [],
   "source": [
    "def Random_Forest_Classifier(X,y):\n",
    "    from sklearn.model_selection import train_test_split\n",
    "    from sklearn.ensemble import RandomForestClassifier\n",
    "    from sklearn.metrics import classification_report,confusion_matrix,accuracy_score\n",
    "    X_train, X_test, y_train, y_test = train_test_split(X, y, test_size=0.2, random_state=101)\n",
    "    clf = RandomForestClassifier(max_depth=2, random_state=0,class_weight='balanced')\n",
    "    clf.fit(X_train,y_train)\n",
    "    predictions = clf.predict(X_test)\n",
    "    print(\"Train Accuracy :: \", accuracy_score(y_train, clf.predict(X_train)))\n",
    "    print(\"Test Accuracy  :: \", accuracy_score(y_test, predictions))\n",
    "    print(\" Confusion matrix: \\n \", confusion_matrix(y_test, predictions))\n",
    "    print(\" Classification Report: \\n \", classification_report(y_test, predictions))"
   ]
  },
  {
   "cell_type": "code",
   "execution_count": null,
   "metadata": {},
   "outputs": [],
   "source": [
    "Random_Forest_Classifier(X,y)"
   ]
  },
  {
   "cell_type": "markdown",
   "metadata": {},
   "source": [
    "## Random Forest Regressor"
   ]
  },
  {
   "cell_type": "code",
   "execution_count": null,
   "metadata": {},
   "outputs": [],
   "source": [
    "def Random_Forest_Regressor(X,y):\n",
    "    from sklearn.model_selection import train_test_split\n",
    "    from sklearn.ensemble import RandomForestRegressor\n",
    "    from sklearn.metrics import classification_report,confusion_matrix,accuracy_score\n",
    "    X_train, X_test, y_train, y_test = train_test_split(X, y, test_size=0.2, random_state=101)\n",
    "    clf = RandomForestRegressor(random_state=0)\n",
    "    clf.fit(X_train,y_train)\n",
    "    predictions = clf.predict(X_test)\n",
    "    print(\"Train Accuracy :: \", accuracy_score(y_train, clf.predict(X_train)))\n",
    "    print(\"Test Accuracy  :: \", accuracy_score(y_test, predictions))\n",
    "    print(\" Confusion matrix: \\n \", confusion_matrix(y_test, predictions))\n",
    "    print(\" Classification Report: \\n \", classification_report(y_test, predictions))"
   ]
  },
  {
   "cell_type": "code",
   "execution_count": null,
   "metadata": {},
   "outputs": [],
   "source": [
    "Random_Forest_Regressor(X,y)"
   ]
  },
  {
   "cell_type": "markdown",
   "metadata": {},
   "source": [
    "## XGBoost"
   ]
  },
  {
   "cell_type": "code",
   "execution_count": null,
   "metadata": {},
   "outputs": [],
   "source": [
    "def XGBoost(X,y):\n",
    "    from xgboost import XGBClassifier\n",
    "    from sklearn.model_selection import train_test_split\n",
    "    from sklearn.metrics import classification_report,confusion_matrix,accuracy_score\n",
    "    X_train, X_test, y_train, y_test = train_test_split(X, y, test_size=0.2, random_state=101)\n",
    "    model = XGBClassifier()\n",
    "    model.fit(X_train, y_train)\n",
    "    predictions = model.predict(X_test)\n",
    "    print(\"Train Accuracy :: \", accuracy_score(y_train, model.predict(X_train)))\n",
    "    print(\"Test Accuracy  :: \", accuracy_score(y_test, predictions)) \n",
    "    print(\" Confusion matrix: \\n \", confusion_matrix(y_test, predictions))\n",
    "    print(\" Classification Report: \\n \", classification_report(y_test, predictions))"
   ]
  },
  {
   "cell_type": "code",
   "execution_count": null,
   "metadata": {},
   "outputs": [],
   "source": [
    "XGBoost(X,y)"
   ]
  },
  {
   "cell_type": "markdown",
   "metadata": {},
   "source": [
    "## K Nearest Neighbors"
   ]
  },
  {
   "cell_type": "code",
   "execution_count": null,
   "metadata": {},
   "outputs": [],
   "source": [
    "def KNN(X,y):\n",
    "    from sklearn.neighbors import KNeighborsClassifier\n",
    "    from sklearn.model_selection import train_test_split\n",
    "    from sklearn.metrics import classification_report,confusion_matrix,accuracy_score\n",
    "    X_train, X_test, y_train, y_test = train_test_split(X, y, test_size=0.2, random_state=101)\n",
    "    classifier = KNeighborsClassifier(n_neighbors=5)  \n",
    "    classifier.fit(X_train, y_train)  \n",
    "    predictions = classifier.predict(X_test)  \n",
    "    print(\"Train Accuracy :: \", accuracy_score(y_train, classifier.predict(X_train)))\n",
    "    print(\"Test Accuracy  :: \", accuracy_score(y_test, predictions))\n",
    "    print(\" Confusion matrix: \\n \", confusion_matrix(y_test, predictions))\n",
    "    print(\" Classification Report: \\n \", classification_report(y_test, predictions))"
   ]
  },
  {
   "cell_type": "code",
   "execution_count": null,
   "metadata": {},
   "outputs": [],
   "source": [
    "KNN(X,y)"
   ]
  },
  {
   "cell_type": "markdown",
   "metadata": {},
   "source": [
    "## Neural Network"
   ]
  },
  {
   "cell_type": "code",
   "execution_count": null,
   "metadata": {},
   "outputs": [],
   "source": [
    "def Neural_Net(X,y):\n",
    "    from sklearn.neural_network import MLPClassifier\n",
    "    from sklearn.model_selection import train_test_split\n",
    "    from sklearn.metrics import classification_report,confusion_matrix,accuracy_score\n",
    "    X_train, X_test, y_train, y_test = train_test_split(X, y, test_size=0.2, random_state=101)\n",
    "    mlp = MLPClassifier(hidden_layer_sizes=(30,30,30))\n",
    "    mlp.fit(X_train,y_train)\n",
    "    predictions = mlp.predict(X_test)\n",
    "    print(\"Train Accuracy :: \", accuracy_score(y_train, mlp.predict(X_train)))\n",
    "    print(\"Test Accuracy  :: \", accuracy_score(y_test, predictions))\n",
    "    print(\" Confusion matrix: \\n \", confusion_matrix(y_test, predictions))\n",
    "    print(\" Classification Report: \\n \", classification_report(y_test, predictions))"
   ]
  },
  {
   "cell_type": "code",
   "execution_count": null,
   "metadata": {},
   "outputs": [],
   "source": [
    "Neural_Net(X,y)"
   ]
  },
  {
   "cell_type": "markdown",
   "metadata": {},
   "source": [
    "## Support Vector Machines - Classifier"
   ]
  },
  {
   "cell_type": "code",
   "execution_count": null,
   "metadata": {},
   "outputs": [],
   "source": [
    "def SVM_Classifier(X,y):\n",
    "    from sklearn.svm import SVC\n",
    "    from sklearn.model_selection import train_test_split\n",
    "    from sklearn.metrics import classification_report,confusion_matrix,accuracy_score\n",
    "    X_train, X_test, y_train, y_test = train_test_split(X, y, test_size=0.2, random_state=101)\n",
    "    svc = SVC()\n",
    "    svc.fit(X_train,y_train)\n",
    "    predictions = svc.predict(X_test)\n",
    "    print(\"Train Accuracy :: \", accuracy_score(y_train, svc.predict(X_train)))\n",
    "    print(\"Test Accuracy  :: \", accuracy_score(y_test, predictions))\n",
    "    print(\" Confusion matrix: \\n \", confusion_matrix(y_test, predictions))\n",
    "    print(\" Classification Report: \\n \", classification_report(y_test, predictions))"
   ]
  },
  {
   "cell_type": "code",
   "execution_count": null,
   "metadata": {},
   "outputs": [],
   "source": [
    "SVM_Classifier(X,y)"
   ]
  },
  {
   "cell_type": "markdown",
   "metadata": {},
   "source": [
    "## Support Vector Machines - Regressor"
   ]
  },
  {
   "cell_type": "code",
   "execution_count": null,
   "metadata": {},
   "outputs": [],
   "source": [
    "def SVM_Regressor(X,y):\n",
    "    from sklearn.svm import SVR\n",
    "    from sklearn.model_selection import train_test_split\n",
    "    from sklearn.metrics import classification_report,confusion_matrix,accuracy_score\n",
    "    X_train, X_test, y_train, y_test = train_test_split(X, y, test_size=0.2, random_state=101)\n",
    "    svr = SVR()\n",
    "    svr.fit(X_train,y_train)\n",
    "    predictions = svr.predict(X_test)\n",
    "    print(\"Train Accuracy :: \", accuracy_score(y_train, svr.predict(X_train)))\n",
    "    print(\"Test Accuracy  :: \", accuracy_score(y_test, predictions))\n",
    "    print(\" Confusion matrix: \\n \", confusion_matrix(y_test, predictions))\n",
    "    print(\" Classification Report: \\n \", classification_report(y_test, predictions))"
   ]
  },
  {
   "cell_type": "code",
   "execution_count": null,
   "metadata": {},
   "outputs": [],
   "source": [
    "SVM_Regressor(X,y)"
   ]
  }
 ],
 "metadata": {
  "kernelspec": {
   "display_name": "Python 3",
   "language": "python",
   "name": "python3"
  },
  "language_info": {
   "codemirror_mode": {
    "name": "ipython",
    "version": 3
   },
   "file_extension": ".py",
   "mimetype": "text/x-python",
   "name": "python",
   "nbconvert_exporter": "python",
   "pygments_lexer": "ipython3",
   "version": "3.8.8"
  }
 },
 "nbformat": 4,
 "nbformat_minor": 2
}
